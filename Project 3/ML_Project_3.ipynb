{
  "nbformat": 4,
  "nbformat_minor": 0,
  "metadata": {
    "colab": {
      "provenance": []
    },
    "kernelspec": {
      "name": "python3",
      "display_name": "Python 3"
    },
    "language_info": {
      "name": "python"
    }
  },
  "cells": [
    {
      "cell_type": "code",
      "execution_count": null,
      "metadata": {
        "colab": {
          "base_uri": "https://localhost:8080/"
        },
        "id": "3PFd3iJVVNXx",
        "outputId": "00beb2fe-4974-4b05-8a5d-5376202856de"
      },
      "outputs": [
        {
          "output_type": "stream",
          "name": "stdout",
          "text": [
            "Best parameters from Grid Search: {'alpha': 0.1}\n",
            "Best parameters from Random Search: {'alpha': 1.4000000000000001}\n",
            "\n",
            "Grid Search Model Evaluation Metrics:\n",
            "Accuracy: 95.75%\n",
            "Precision: 0.90\n",
            "Recall: 0.96\n",
            "F1 Score: 0.93\n",
            "\n",
            "Random Search Model Evaluation Metrics:\n",
            "Accuracy: 95.36%\n",
            "Precision: 0.89\n",
            "Recall: 0.96\n",
            "F1 Score: 0.92\n"
          ]
        }
      ],
      "source": [
        "# Import necessary libraries\n",
        "import pandas as pd\n",
        "from sklearn.model_selection import train_test_split, GridSearchCV, RandomizedSearchCV\n",
        "from sklearn.naive_bayes import MultinomialNB\n",
        "from sklearn.metrics import accuracy_score, precision_score, recall_score, f1_score\n",
        "import numpy as np\n",
        "import matplotlib.pyplot as plt\n",
        "import seaborn as sns\n",
        "\n",
        "# Load the dataset\n",
        "emails_df = pd.read_csv('emails.csv')\n",
        "\n",
        "# Drop the 'Email No.' column as it is irrelevant for analysis\n",
        "emails_df.drop(columns=['Email No.'], inplace=True)\n",
        "\n",
        "# Step 1: Separate features and target variable\n",
        "X = emails_df.drop(columns=['Prediction'])\n",
        "y = emails_df['Prediction']\n",
        "\n",
        "# Step 2: Split data into training and test sets\n",
        "X_train, X_test, y_train, y_test = train_test_split(X, y, test_size=0.2, random_state=42)\n",
        "\n",
        "# Step 3a: Define the model\n",
        "nb_model = MultinomialNB()\n",
        "\n",
        "# Step 3b: Set up parameter grids for Grid Search and Random Search\n",
        "param_grid = {'alpha': [0.1, 0.5, 1.0, 2.0, 5.0]}  # For Grid Search\n",
        "param_dist = {'alpha': np.linspace(0.1, 5.0, 50)}  # For Random Search\n",
        "\n",
        "# Step 4a: Apply Grid Search\n",
        "grid_search = GridSearchCV(nb_model, param_grid, cv=5, scoring='f1', n_jobs=-1)\n",
        "grid_search.fit(X_train, y_train)\n",
        "best_grid_model = grid_search.best_estimator_\n",
        "\n",
        "print(\"Best parameters from Grid Search:\", grid_search.best_params_)\n",
        "\n",
        "# Step 4b: Apply Random Search\n",
        "random_search = RandomizedSearchCV(nb_model, param_distributions=param_dist, n_iter=10, cv=5, scoring='f1', random_state=42, n_jobs=-1)\n",
        "random_search.fit(X_train, y_train)\n",
        "best_random_model = random_search.best_estimator_\n",
        "\n",
        "print(\"Best parameters from Random Search:\", random_search.best_params_)\n",
        "\n",
        "# Step 5: Evaluate both models on the test set\n",
        "for model_name, model in [(\"Grid Search Model\", best_grid_model), (\"Random Search Model\", best_random_model)]:\n",
        "    y_pred = model.predict(X_test)\n",
        "    accuracy = accuracy_score(y_test, y_pred)\n",
        "    precision = precision_score(y_test, y_pred)\n",
        "    recall = recall_score(y_test, y_pred)\n",
        "    f1 = f1_score(y_test, y_pred)\n",
        "\n",
        "    print(f\"\\n{model_name} Evaluation Metrics:\")\n",
        "    print(f\"Accuracy: {accuracy * 100:.2f}%\")\n",
        "    print(f\"Precision: {precision:.2f}\")\n",
        "    print(f\"Recall: {recall:.2f}\")\n",
        "    print(f\"F1 Score: {f1:.2f}\")\n"
      ]
    }
  ]
}