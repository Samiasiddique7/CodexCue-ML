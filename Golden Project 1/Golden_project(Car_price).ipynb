{
  "nbformat": 4,
  "nbformat_minor": 0,
  "metadata": {
    "colab": {
      "provenance": []
    },
    "kernelspec": {
      "name": "python3",
      "display_name": "Python 3"
    },
    "language_info": {
      "name": "python"
    }
  },
  "cells": [
    {
      "cell_type": "markdown",
      "source": [
        "# **Golden Project: Car Price Prediction**"
      ],
      "metadata": {
        "id": "SybzC2VlegKx"
      }
    },
    {
      "cell_type": "code",
      "source": [
        "# Import necessary libraries\n",
        "import pandas as pd\n",
        "import numpy as np\n",
        "from sklearn.model_selection import train_test_split, cross_val_score\n",
        "from sklearn.ensemble import RandomForestRegressor\n",
        "from sklearn.metrics import mean_absolute_error, mean_squared_error\n",
        "from sklearn.preprocessing import LabelEncoder\n",
        "\n",
        "# Load the dataset\n",
        "df = pd.read_csv('car_price.csv')\n",
        "\n",
        "# Data Exploration\n",
        "print(\"First few rows of the dataset:\")\n",
        "print(df.head())\n",
        "\n",
        "print(\"\\nSummary of the dataset:\")\n",
        "print(df.describe())\n",
        "\n",
        "# Check for missing values\n",
        "print(\"\\nMissing values in each column:\")\n",
        "print(df.isnull().sum())\n",
        "\n",
        "# Feature Engineering\n",
        "# 1. Calculate car age from 'year' column\n",
        "df['car_age'] = 2024 - df['year']\n",
        "\n",
        "# 2. Log transform 'km_driven' to normalize its distribution\n",
        "df['log_km_driven'] = np.log(df['km_driven'] + 1)\n",
        "\n",
        "# 3. Encode categorical features using one-hot encoding\n",
        "df = pd.get_dummies(df, columns=['fuel', 'seller_type', 'transmission', 'owner'], drop_first=True)\n",
        "\n",
        "# 4. Label encode the 'name' feature (car model), if needed\n",
        "# For simplicity, we'll not directly use 'name' here as it's complex, but it can be encoded\n",
        "# label_encoder = LabelEncoder()\n",
        "# df['name_encoded'] = label_encoder.fit_transform(df['name'])\n",
        "\n",
        "# Drop 'name' and 'year' columns as we don't need them for the regression\n",
        "df.drop(columns=['name', 'year'], inplace=True)\n",
        "\n",
        "# Define features (X) and target variable (y)\n",
        "X = df.drop(columns=['selling_price'])\n",
        "y = df['selling_price']\n",
        "\n",
        "# Split the data into training and testing sets\n",
        "X_train, X_test, y_train, y_test = train_test_split(X, y, test_size=0.2, random_state=42)\n",
        "\n",
        "# Model Selection and Training\n",
        "# 1. Train a Random Forest model as an example\n",
        "model = RandomForestRegressor(n_estimators=100, random_state=42)\n",
        "model.fit(X_train, y_train)\n",
        "\n",
        "# Predict on the test set\n",
        "y_pred = model.predict(X_test)\n",
        "\n",
        "# Model Evaluation\n",
        "# Calculate Mean Absolute Error (MAE)\n",
        "mae = mean_absolute_error(y_test, y_pred)\n",
        "print(f'\\nMean Absolute Error: {mae}')\n",
        "\n",
        "# Calculate Root Mean Squared Error (RMSE)\n",
        "rmse = np.sqrt(mean_squared_error(y_test, y_pred))\n",
        "print(f'Root Mean Squared Error: {rmse}')\n",
        "\n",
        "# Cross-validation for model robustness\n",
        "cv_scores = cross_val_score(model, X, y, cv=5, scoring='neg_mean_absolute_error')\n",
        "print(f'\\nCross-validation scores (Negative MAE): {cv_scores}')\n",
        "print(f'Mean Cross-validation Score: {cv_scores.mean()}')\n",
        "\n"
      ],
      "metadata": {
        "colab": {
          "base_uri": "https://localhost:8080/"
        },
        "id": "HITTAwOodOms",
        "outputId": "471ac926-4634-457d-a035-16c798a985bb"
      },
      "execution_count": 2,
      "outputs": [
        {
          "output_type": "stream",
          "name": "stdout",
          "text": [
            "First few rows of the dataset:\n",
            "                       name  year  selling_price  km_driven    fuel  \\\n",
            "0             Maruti 800 AC  2007          60000      70000  Petrol   \n",
            "1  Maruti Wagon R LXI Minor  2007         135000      50000  Petrol   \n",
            "2      Hyundai Verna 1.6 SX  2012         600000     100000  Diesel   \n",
            "3    Datsun RediGO T Option  2017         250000      46000  Petrol   \n",
            "4     Honda Amaze VX i-DTEC  2014         450000     141000  Diesel   \n",
            "\n",
            "  seller_type transmission         owner  \n",
            "0  Individual       Manual   First Owner  \n",
            "1  Individual       Manual   First Owner  \n",
            "2  Individual       Manual   First Owner  \n",
            "3  Individual       Manual   First Owner  \n",
            "4  Individual       Manual  Second Owner  \n",
            "\n",
            "Summary of the dataset:\n",
            "              year  selling_price      km_driven\n",
            "count  4340.000000   4.340000e+03    4340.000000\n",
            "mean   2013.090783   5.041273e+05   66215.777419\n",
            "std       4.215344   5.785487e+05   46644.102194\n",
            "min    1992.000000   2.000000e+04       1.000000\n",
            "25%    2011.000000   2.087498e+05   35000.000000\n",
            "50%    2014.000000   3.500000e+05   60000.000000\n",
            "75%    2016.000000   6.000000e+05   90000.000000\n",
            "max    2020.000000   8.900000e+06  806599.000000\n",
            "\n",
            "Missing values in each column:\n",
            "name             0\n",
            "year             0\n",
            "selling_price    0\n",
            "km_driven        0\n",
            "fuel             0\n",
            "seller_type      0\n",
            "transmission     0\n",
            "owner            0\n",
            "dtype: int64\n",
            "\n",
            "Mean Absolute Error: 169591.69338950317\n",
            "Root Mean Squared Error: 393224.33604135097\n",
            "\n",
            "Cross-validation scores (Negative MAE): [-163129.79766499 -165230.73390229 -153330.78492834 -153850.98647075\n",
            " -194548.65265276]\n",
            "Mean Cross-validation Score: -166018.19112382625\n"
          ]
        }
      ]
    },
    {
      "cell_type": "code",
      "source": [
        "from sklearn.preprocessing import StandardScaler\n",
        "from sklearn.ensemble import GradientBoostingRegressor\n",
        "\n",
        "# Scaling features\n",
        "scaler = StandardScaler()\n",
        "X_scaled = scaler.fit_transform(X)\n",
        "\n",
        "# Split the data into training and testing sets\n",
        "X_train, X_test, y_train, y_test = train_test_split(X_scaled, y, test_size=0.2, random_state=42)\n",
        "\n",
        "# Train a Gradient Boosting model\n",
        "model = GradientBoostingRegressor(n_estimators=100, random_state=42)\n",
        "model.fit(X_train, y_train)\n",
        "\n",
        "# Predict on the test set\n",
        "y_pred = model.predict(X_test)\n",
        "\n",
        "# Model Evaluation\n",
        "mae = mean_absolute_error(y_test, y_pred)\n",
        "print(f'\\nMean Absolute Error: {mae}')\n",
        "\n",
        "rmse = np.sqrt(mean_squared_error(y_test, y_pred))\n",
        "print(f'Root Mean Squared Error: {rmse}')\n",
        "\n",
        "# Cross-validation for model robustness\n",
        "cv_scores = cross_val_score(model, X_scaled, y, cv=5, scoring='neg_mean_absolute_error')\n",
        "print(f'\\nCross-validation scores (Negative MAE): {cv_scores}')\n",
        "print(f'Mean Cross-validation Score: {cv_scores.mean()}')\n"
      ],
      "metadata": {
        "colab": {
          "base_uri": "https://localhost:8080/"
        },
        "id": "y9GahSp1eH7h",
        "outputId": "5423ba23-68ed-46dc-ffbb-f3043d6b238f"
      },
      "execution_count": 3,
      "outputs": [
        {
          "output_type": "stream",
          "name": "stdout",
          "text": [
            "\n",
            "Mean Absolute Error: 175772.53803690788\n",
            "Root Mean Squared Error: 400198.3959106852\n",
            "\n",
            "Cross-validation scores (Negative MAE): [-176532.4726987  -187321.0524059  -174721.89809838 -158019.92909149\n",
            " -193293.12593755]\n",
            "Mean Cross-validation Score: -177977.6956464046\n"
          ]
        }
      ]
    }
  ]
}